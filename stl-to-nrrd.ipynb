{
 "cells": [
  {
   "cell_type": "code",
   "execution_count": null,
   "id": "4db84c83",
   "metadata": {},
   "outputs": [],
   "source": [
    "'''\n",
    "Denote the iteration before doing any conversion or filteration. \n",
    "Filtering the second time or converting with different function can lead to data alignment issues\n",
    "'''"
   ]
  },
  {
   "cell_type": "code",
   "execution_count": 8,
   "id": "60cd68d6",
   "metadata": {},
   "outputs": [],
   "source": [
    "import stltovoxel as stv\n",
    "import numpy as np\n",
    "import nrrd\n",
    "from stl import mesh\n",
    "import glob\n",
    "import os\n",
    "from scipy import ndimage"
   ]
  },
  {
   "cell_type": "code",
   "execution_count": 2,
   "id": "58ac3849",
   "metadata": {},
   "outputs": [],
   "source": [
    "def checkmeshparam(file_path, resolution = 100):\n",
    "    mesh_obj = mesh.Mesh.from_file(file_path)\n",
    "    org_mesh = np.hstack((mesh_obj.v0[:, np.newaxis], mesh_obj.v1[:, np.newaxis], mesh_obj.v2[:, np.newaxis]))\n",
    "    obj = []\n",
    "    obj.append(org_mesh)\n",
    "    vol, scale, shift = stv.convert_meshes(obj, resolution, None, False)\n",
    "    vol = vol.astype(np.uint8)\n",
    "    return vol, vol.shape, scale, shift    "
   ]
  },
  {
   "cell_type": "code",
   "execution_count": 3,
   "id": "3357dfbc",
   "metadata": {
    "scrolled": true
   },
   "outputs": [],
   "source": [
    "def convertmesh(file_path):\n",
    "    vol, size, sfa, shift = checkmeshparam(file_path)\n",
    "    sf = np.mean(sfa)\n",
    "    if sf <= 0.975 or sf >= 1.025:\n",
    "        resolution = int(np.floor(100/(np.mean(sf))))\n",
    "        print(f\"___________Rescaled to {resolution} Resolution___________\") \n",
    "        vol, size, sfa, shift = checkmeshparam(file_path, resolution)\n",
    "        sf = np.mean(sfa)\n",
    "        \n",
    "    return vol, size, shift, sf"
   ]
  },
  {
   "cell_type": "code",
   "execution_count": 4,
   "id": "493347a7",
   "metadata": {},
   "outputs": [],
   "source": [
    "def createnrrd(vol, size, shift, file_path):\n",
    "    origin = (shift[0],shift[1],shift[2])\n",
    "    trans_vol = np.rot90(np.flip(vol, axis = 2), k =1, axes = (0,2))\n",
    "    header = {\n",
    "    'type' : 'u1',\n",
    "    'dimension' : '3',\n",
    "    'space': 'left-posterior-superior',\n",
    "    'sizes': size,\n",
    "    'space directions': [(1, 0, 0), (0, 1, 0), (0, 0, 1)],\n",
    "    'kinds': ['domain', 'domain', 'domain'],\n",
    "    'encoding': 'gzip',\n",
    "    'space origin': origin\n",
    "    }\n",
    "    nrrd.write(file_path.replace(\".stl\",\".nrrd\"), trans_vol, header) \n",
    "    "
   ]
  },
  {
   "cell_type": "code",
   "execution_count": 5,
   "id": "54c817e9",
   "metadata": {},
   "outputs": [],
   "source": [
    "def convert_to_nrrd(file_path):\n",
    "    file_name = file_path.split('\\\\')[-1].split('.')[0]\n",
    "    vol, size, shift, scaled = convertmesh(file_path)\n",
    "    createnrrd(vol, size, shift,file_path)\n",
    "    print(f\"{file_name} created with {scaled} acc\")\n",
    "    pass"
   ]
  },
  {
   "cell_type": "code",
   "execution_count": null,
   "id": "f45bea28",
   "metadata": {},
   "outputs": [],
   "source": [
    "skulls_directory = '.\\Skulls'\n",
    "for folder_name in os.listdir(skulls_directory):\n",
    "    for file in os.listdir(os.path.join(skulls_directory,folder_name)):\n",
    "        if 'implant' in file:\n",
    "            convert_to_nrrd(os.path.join(skulls_directory,folder_name,file)) \n"
   ]
  },
  {
   "cell_type": "code",
   "execution_count": 35,
   "id": "dbd47433",
   "metadata": {},
   "outputs": [],
   "source": [
    "def nrrdfilter(file_path):\n",
    "    filename = file_name = file_path.split('\\\\')[-1].split('.')[0]\n",
    "    skull_vol,header = nrrd.read(file_path)\n",
    "    header = dict(header)\n",
    "    # Apply opening (erosion followed by dilation)\n",
    "    opened_data = (ndimage.binary_opening(skull_vol, structure=np.ones((2, 2, 2)), iterations=1)).astype('uint8')\n",
    "    nrrd.write(file_path, np.flip(opened_data, axis=(0,1)), header)\n",
    "    print(f\"{file_name} filtered and replaced\")"
   ]
  },
  {
   "cell_type": "code",
   "execution_count": 28,
   "id": "8fedd8b0",
   "metadata": {},
   "outputs": [],
   "source": [
    "lis = []"
   ]
  },
  {
   "cell_type": "code",
   "execution_count": 29,
   "id": "8398e953",
   "metadata": {},
   "outputs": [],
   "source": [
    "skulls_directory = '.\\Skulls'\n",
    "for folder_name in os.listdir(skulls_directory):\n",
    "    for file in os.listdir(os.path.join(skulls_directory,folder_name)):\n",
    "        if 'implant' not in file and '.stl' not in file:\n",
    "            lis.append(os.path.join(skulls_directory,folder_name,file)) #directly run thr filter function here \n"
   ]
  },
  {
   "cell_type": "code",
   "execution_count": null,
   "id": "b149b3c2",
   "metadata": {},
   "outputs": [],
   "source": [
    "lis = lis[8:] #first 8 files already converted in trials"
   ]
  },
  {
   "cell_type": "code",
   "execution_count": null,
   "id": "4b96f4b0",
   "metadata": {},
   "outputs": [],
   "source": [
    "for item in lis:\n",
    "    nrrdfilter(item)"
   ]
  }
 ],
 "metadata": {
  "kernelspec": {
   "display_name": "Python 3 (ipykernel)",
   "language": "python",
   "name": "python3"
  },
  "language_info": {
   "codemirror_mode": {
    "name": "ipython",
    "version": 3
   },
   "file_extension": ".py",
   "mimetype": "text/x-python",
   "name": "python",
   "nbconvert_exporter": "python",
   "pygments_lexer": "ipython3",
   "version": "3.11.4"
  }
 },
 "nbformat": 4,
 "nbformat_minor": 5
}
